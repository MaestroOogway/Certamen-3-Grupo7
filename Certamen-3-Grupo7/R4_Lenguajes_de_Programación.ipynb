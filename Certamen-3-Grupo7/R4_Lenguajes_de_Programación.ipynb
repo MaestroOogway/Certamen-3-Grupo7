{
  "nbformat": 4,
  "nbformat_minor": 0,
  "metadata": {
    "colab": {
      "provenance": []
    },
    "kernelspec": {
      "name": "python3",
      "display_name": "Python 3"
    },
    "language_info": {
      "name": "python"
    }
  },
  "cells": [
    {
      "cell_type": "code",
      "source": [
        "from graphviz import Digraph\n",
        "import pandas as pd # Lectura de csv\n",
        "\n",
        "arbol = pd.read_csv('arbol.csv')\n",
        "\n",
        "print(arbol.head())\n",
        "print(arbol.columns.values)\n",
        "ancestros = arbol.loc[arbol['relacion'] == 'primerancestro', 'persona1'].iloc[0]\n",
        "arbol['registro_persona'] = 0    # Indicador para saber que la persona a sido registrada en el arbol\n",
        "\n",
        "incomp = [ancestros]\n",
        "comp = []\n",
        "\n",
        "diagrama = Digraph(comment = 'Ancestry', graph_attr = {'splines':'ortho'})\n",
        "nodos = []\n",
        "\n",
        "# Inicialización del nodo\n",
        "\n",
        "det = str(arbol.loc[arbol['persona1'] == ancestros, 'detalles'][0])\n",
        "g = arbol.loc[arbol['persona1'] == ancestros, 'genero'][0]\n",
        "forma = 'rect' if g == 'M' else 'ellipse' # En caso de que sea masculino el nodo será rectangular, de lo contrario sera un elipse\n",
        "diagrama.node(ancestros, ancestros, tooltip = det, shape = forma)\n",
        "nodos.append(ancestros)\n",
        "\n",
        "arbol.loc[arbol['persona1'] == ancestros, 'registro_persona'] = 1\n",
        "\n",
        "max_iter = 10 # Hace referencia a las generaciones que contiene el arbol\n",
        "\n",
        "for i in range(0, max_iter):\n",
        "    print(i)\n",
        "    temp = arbol[arbol['registro_persona'] == 0]\n",
        "\n",
        "    if len(temp) == 0:      # Rompe el loop al registrar a todos las personas\n",
        "        break\n",
        "    else:\n",
        "        temp['generacion_per'] = temp.apply(lambda x: 1 if x['persona2'] in incomp else 0, axis = 1)\n",
        "\n",
        "        # Relación conyuge\n",
        "        generacion = temp[(temp['generacion_per'] == 1) & (temp['relacion'] == 'conyuge')]\n",
        "        if len(generacion) > 0:\n",
        "            for j in range(0, len(generacion)):\n",
        "                per1 = generacion['persona1'].iloc[j]\n",
        "                per2 = generacion['persona2'].iloc[j]\n",
        "                det = str(generacion['detalles'].iloc[j])\n",
        "                g = generacion['genero'].iloc[j]\n",
        "                forma = 'rect' if g == 'm' else 'ellipse'\n",
        "                with diagrama.subgraph() as subs:\n",
        "                    subs.attr(rank = 'same')\n",
        "                    subs.node(per1, per1, tooltip = det, shape = forma, fillcolor = \"red\")\n",
        "                    nodos.append(per1)\n",
        "                    subs.edge(per2, per1, arrowhead = 'none', color = \"black:pink:black\")\n",
        "\n",
        "        # Relación hijos\n",
        "        generacion = temp[(temp['generacion_per'] == 1) & (temp['relacion'] == 'hijo')]\n",
        "        if len(generacion) > 0:\n",
        "            for j in range(0, len(generacion)):\n",
        "                per1 = generacion['persona1'].iloc[j]\n",
        "                per2 = generacion['persona2'].iloc[j]\n",
        "                det = str(generacion['detalles'].iloc[j])\n",
        "                g = generacion['genero'].iloc[j]\n",
        "                forma = 'rect' if g == 'm' else 'ellipse'\n",
        "                diagrama.node(per1, per1, tooltip = det, shape = forma)\n",
        "                nodos.append(per1)\n",
        "                diagrama.edge(per2, per1)\n",
        "\n",
        "        comp.extend(incomp)\n",
        "        incomp = list(temp.loc[temp['generacion_per'] == 1, 'persona1'])\n",
        "        arbol['registro_persona'] = temp.apply(lambda x: 1 if (x['persona1'] in incomp) | (x['persona1'] in comp) else 0, axis = 1)\n",
        "\n",
        "diagrama.format = 'svg'\n",
        "diagrama.render('ArbolGenealogico.gv.svg', view = True)"
      ],
      "metadata": {
        "colab": {
          "base_uri": "https://localhost:8080/",
          "height": 435
        },
        "id": "rF7C6Dq9nskc",
        "outputId": "3e73b4ff-4aba-4a66-ccf6-68c7ae8225a7"
      },
      "execution_count": 5,
      "outputs": [
        {
          "output_type": "stream",
          "name": "stdout",
          "text": [
            "      persona1        relacion     persona2 genero  detalles\n",
            "0     jorgeIII  primerancestro          NaN      m         1\n",
            "1  guillermoIV            hijo     jorgeIII      m         2\n",
            "2     victoria            hijo  guillermoIV      f         3\n",
            "3   eduardoVII            hijo     victoria      f         4\n",
            "4       jorgeV            hijo   eduardoVII      m         5\n",
            "['persona1' 'relacion' 'persona2' 'genero' 'detalles']\n",
            "0\n",
            "1\n",
            "2\n",
            "3\n",
            "4\n",
            "5\n",
            "6\n",
            "7\n",
            "8\n",
            "9\n"
          ]
        },
        {
          "output_type": "stream",
          "name": "stderr",
          "text": [
            "<ipython-input-5-62b25224394f>:36: SettingWithCopyWarning: \n",
            "A value is trying to be set on a copy of a slice from a DataFrame.\n",
            "Try using .loc[row_indexer,col_indexer] = value instead\n",
            "\n",
            "See the caveats in the documentation: https://pandas.pydata.org/pandas-docs/stable/user_guide/indexing.html#returning-a-view-versus-a-copy\n",
            "  temp['generacion_per'] = temp.apply(lambda x: 1 if x['persona2'] in incomp else 0, axis = 1)\n"
          ]
        },
        {
          "output_type": "execute_result",
          "data": {
            "text/plain": [
              "'ArbolGenealogico.gv.svg.svg'"
            ],
            "application/vnd.google.colaboratory.intrinsic+json": {
              "type": "string"
            }
          },
          "metadata": {},
          "execution_count": 5
        }
      ]
    }
  ]
}